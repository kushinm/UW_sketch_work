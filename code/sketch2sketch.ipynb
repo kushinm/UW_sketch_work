{
 "cells": [
  {
   "cell_type": "markdown",
   "metadata": {},
   "source": [
    "### Notebook for creating image to image autoencoders for sketches using pytorch"
   ]
  },
  {
   "cell_type": "code",
   "execution_count": null,
   "metadata": {},
   "outputs": [],
   "source": [
    "### Author: Kushin Mukherjee"
   ]
  },
  {
   "cell_type": "markdown",
   "metadata": {},
   "source": [
    "We're using python 3 plus the latest versions of all the packages listed below. Be sure to update before running this nb"
   ]
  },
  {
   "cell_type": "code",
   "execution_count": 4,
   "metadata": {},
   "outputs": [],
   "source": [
    "### import package\n",
    "\n",
    "import sys\n",
    "from importlib import reload\n",
    "from matplotlib import pyplot as plt\n",
    "%matplotlib inline\n",
    "import seaborn as sns\n",
    "import numpy as np\n",
    "import scipy.stats as stats\n",
    "import pandas as pd\n",
    "import torch\n",
    "import torch.nn as nn\n",
    "import torch.nn.functional as F\n",
    "from PIL import Image\n",
    "from IPython.display import clear_output\n",
    "import svgpathtools\n",
    "import os.path\n",
    "from collections import Counter\n",
    "\n",
    "\n",
    "\n",
    "import svg_rendering_helpers as srh"
   ]
  },
  {
   "cell_type": "code",
   "execution_count": 5,
   "metadata": {},
   "outputs": [],
   "source": [
    "\n",
    "# directory & file hierarchy\n",
    "proj_dir = os.path.abspath('..')\n",
    "code_dir = os.getcwd()\n",
    "plot_dir = os.path.join(proj_dir,'plots')\n",
    "data_dir = os.path.join(proj_dir,'data')\n",
    "\n",
    "\n",
    "if not os.path.exists(code_dir):\n",
    "    os.makedirs(code_dir)\n",
    "    \n",
    "if not os.path.exists(plot_dir):\n",
    "    os.makedirs(plot_dir)\n",
    "    \n",
    "if not os.path.exists(data_dir):\n",
    "    os.makedirs(data_dir)\n",
    "    \n",
    "# if svg_rendering_helpers.py not in sys.path:\n",
    "#     sys.path.append(os.path.join(proj_dir,svg_rendering_helpers.py)) "
   ]
  },
  {
   "cell_type": "code",
   "execution_count": null,
   "metadata": {},
   "outputs": [],
   "source": []
  },
  {
   "cell_type": "code",
   "execution_count": 6,
   "metadata": {},
   "outputs": [],
   "source": [
    "D = pd.read_csv(os.path.join(data_dir,'semantic_parts_annotated_data.csv'))"
   ]
  },
  {
   "cell_type": "code",
   "execution_count": 7,
   "metadata": {},
   "outputs": [
    {
     "data": {
      "text/plain": [
       "\"[u'M88,40c0,2.06264 -0.6772,18.1614 1,19c9.41403,4.70702 38.10521,0 48,0c6.97504,0 29.82865,3.17135 34,-1c3.42085,-3.42085 -3.19012,-10.78518 -4,-12c-3.78389,-5.67584 -63.17292,-1 -79,-1', u'M92,61c0,18.89105 3,36.40812 3,55c0,1.58004 -0.75655,5 1,5', u'M169,60c0,20.0258 3,38.53083 3,57', u'M102,122c16.31683,10.87789 43.89528,-5 61,-5c0.74802,0 9,0 9,0c0,0 -1.47891,5.69728 -2,7c-4.79137,11.97843 -12.34671,43.34671 -20,51c-2.8003,2.8003 -21.92143,0 -26,0c-2.08325,0 -39.79187,-0.79187 -40,-1c-4.02358,-4.02358 13,-45.63903 13,-52c0,-2.36036 -0.54955,-3 2,-3', u'M83,174c0,17.6105 4,36.94202 4,53', u'M148,176c0,14.22848 5,31.9937 5,44', u'M172,120c3.28295,0 2.90737,5.90421 4,9c4.66601,13.22036 11.28855,72.28855 16,77', u'M103,179c3.79513,0 8.1022,13 12,13']\""
      ]
     },
     "execution_count": 7,
     "metadata": {},
     "output_type": "execute_result"
    }
   ],
   "source": [
    "D.sketch_svg_string[0]"
   ]
  },
  {
   "cell_type": "code",
   "execution_count": 8,
   "metadata": {},
   "outputs": [],
   "source": [
    "def listify(string):\n",
    "    split_list = string.split(\"'\")\n",
    "    l=[\", u\",\"[u\",\"]\"]\n",
    "    out = [x for x in split_list if x not in l]\n",
    "    return(out)\n",
    "    "
   ]
  },
  {
   "cell_type": "code",
   "execution_count": 9,
   "metadata": {},
   "outputs": [],
   "source": [
    "D.sketch_svg_string = D.sketch_svg_string.apply(listify)"
   ]
  },
  {
   "cell_type": "code",
   "execution_count": 10,
   "metadata": {},
   "outputs": [
    {
     "data": {
      "text/plain": [
       "8"
      ]
     },
     "execution_count": 10,
     "metadata": {},
     "output_type": "execute_result"
    }
   ],
   "source": [
    "len(D.sketch_svg_string[0])"
   ]
  },
  {
   "cell_type": "code",
   "execution_count": null,
   "metadata": {},
   "outputs": [],
   "source": []
  },
  {
   "cell_type": "code",
   "execution_count": null,
   "metadata": {},
   "outputs": [],
   "source": []
  },
  {
   "cell_type": "code",
   "execution_count": null,
   "metadata": {},
   "outputs": [],
   "source": []
  },
  {
   "cell_type": "code",
   "execution_count": null,
   "metadata": {},
   "outputs": [],
   "source": []
  },
  {
   "cell_type": "code",
   "execution_count": null,
   "metadata": {},
   "outputs": [],
   "source": []
  },
  {
   "cell_type": "code",
   "execution_count": 11,
   "metadata": {},
   "outputs": [
    {
     "data": {
      "text/plain": [
       "array(['bird', 'car', 'chair', 'dog'], dtype=object)"
      ]
     },
     "execution_count": 11,
     "metadata": {},
     "output_type": "execute_result"
    }
   ],
   "source": [
    "unique_cats = np.unique(D.category)\n",
    "unique_cats"
   ]
  },
  {
   "cell_type": "code",
   "execution_count": 12,
   "metadata": {},
   "outputs": [],
   "source": [
    "#Creating a spline-level df where the modal label is set as the 'true' label for any given spline\n",
    "spline_df= D.groupby('spline_id').agg(lambda x: Counter(x).most_common(1)[0][0])\n",
    "spline_df.reset_index(level=0, inplace=True)\n",
    "\n",
    "##Creating a stroke-level dataframe that takes the mode value of annotation for its children splines to set as its\n",
    "##label value\n",
    "\n",
    "from collections import Counter\n",
    "\n",
    "\n",
    "from collections import OrderedDict\n",
    "stroke_svgs=OrderedDict()\n",
    "for category in unique_cats:\n",
    "    DS=D[D['category']==category]\n",
    "    for sketch in np.unique(DS['sketch_id']):\n",
    "        DSS=DS[DS['sketch_id']==sketch]\n",
    "        for stroke in np.unique(DSS['stroke_num']):\n",
    "            DSA=DSS[DSS['stroke_num']==stroke]\n",
    "            DSA=DSA.reset_index()\n",
    "            stroke_svgs[DSA['stroke_id'][0]] = DSA['sketch_svg_string'][0][stroke]\n",
    "\n",
    "            \n",
    "            \n",
    "stroke_svg_df= pd.DataFrame.from_dict(stroke_svgs, orient='index')    \n",
    "stroke_group_data= D.groupby('stroke_id').agg(lambda x: Counter(x).most_common(1)[0][0])\n",
    "labels= pd.DataFrame(stroke_group_data[['sketch_id','label','stroke_num','condition','target','category','outcome']])\n",
    "stroke_df=pd.merge(stroke_svg_df,labels,left_index=True, right_index =True)\n",
    "stroke_df.reset_index(level=0, inplace=True)\n",
    "stroke_df=stroke_df.rename(index=str, columns={\"index\": \"stroke_id\", 0: \"svg\"})\n"
   ]
  },
  {
   "cell_type": "code",
   "execution_count": 13,
   "metadata": {},
   "outputs": [
    {
     "data": {
      "text/plain": [
       "['M88,40c0,2.06264 -0.6772,18.1614 1,19c9.41403,4.70702 38.10521,0 48,0c6.97504,0 29.82865,3.17135 34,-1c3.42085,-3.42085 -3.19012,-10.78518 -4,-12c-3.78389,-5.67584 -63.17292,-1 -79,-1',\n",
       " 'M92,61c0,18.89105 3,36.40812 3,55c0,1.58004 -0.75655,5 1,5',\n",
       " 'M169,60c0,20.0258 3,38.53083 3,57',\n",
       " 'M102,122c16.31683,10.87789 43.89528,-5 61,-5c0.74802,0 9,0 9,0c0,0 -1.47891,5.69728 -2,7c-4.79137,11.97843 -12.34671,43.34671 -20,51c-2.8003,2.8003 -21.92143,0 -26,0c-2.08325,0 -39.79187,-0.79187 -40,-1c-4.02358,-4.02358 13,-45.63903 13,-52c0,-2.36036 -0.54955,-3 2,-3',\n",
       " 'M83,174c0,17.6105 4,36.94202 4,53',\n",
       " 'M148,176c0,14.22848 5,31.9937 5,44',\n",
       " 'M172,120c3.28295,0 2.90737,5.90421 4,9c4.66601,13.22036 11.28855,72.28855 16,77',\n",
       " 'M103,179c3.79513,0 8.1022,13 12,13']"
      ]
     },
     "execution_count": 13,
     "metadata": {},
     "output_type": "execute_result"
    }
   ],
   "source": [
    "D.sketch_svg_string[0]"
   ]
  },
  {
   "cell_type": "code",
   "execution_count": 14,
   "metadata": {},
   "outputs": [],
   "source": [
    "D_birds = stroke_df[stroke_df['category']=='bird']"
   ]
  },
  {
   "cell_type": "code",
   "execution_count": 15,
   "metadata": {},
   "outputs": [],
   "source": [
    "D_bj = D_birds[D_birds['target']=='bluejay']"
   ]
  },
  {
   "cell_type": "code",
   "execution_count": 25,
   "metadata": {},
   "outputs": [],
   "source": [
    "D_tt = D_birds[D_birds['target']=='tomtit']"
   ]
  },
  {
   "cell_type": "code",
   "execution_count": null,
   "metadata": {},
   "outputs": [],
   "source": []
  },
  {
   "cell_type": "code",
   "execution_count": 31,
   "metadata": {},
   "outputs": [],
   "source": [
    "reload(srh)\n",
    "really_run = True\n",
    "\n",
    "if really_run==True:\n",
    "\n",
    "    for sketch in D_bj.sketch_id.unique():\n",
    "        this_sketch = D_bj.query('sketch_id == @sketch')\n",
    "        svgs = list(this_sketch.svg)\n",
    "        srh.render_svg(svgs,out_dir =\"train_bj\", base_dir=plot_dir,out_fname='{}.svg'.format(sketch))\n"
   ]
  },
  {
   "cell_type": "code",
   "execution_count": 32,
   "metadata": {},
   "outputs": [],
   "source": [
    "reload(srh)\n",
    "really_run = True\n",
    "\n",
    "if really_run==True:\n",
    "\n",
    "    for sketch in D_tt.sketch_id.unique():\n",
    "        this_sketch = D_tt.query('sketch_id == @sketch')\n",
    "        svgs = list(this_sketch.svg)\n",
    "        srh.render_svg(svgs,out_dir=\"test_tt\" ,base_dir=plot_dir,out_fname='{}.svg'.format(sketch))\n"
   ]
  },
  {
   "cell_type": "code",
   "execution_count": 33,
   "metadata": {},
   "outputs": [
    {
     "name": "stdout",
     "output_type": "stream",
     "text": [
      "convert /Users/kushin/Documents/Github/UW_sketch_work/plots/train_bj/2721-f28245be-a3ac-425e-9538-5c0803980807_23.svg /Users/kushin/Documents/Github/UW_sketch_work/plots/train_bj_png/2721-f28245be-a3ac-425e-9538-5c0803980807_23.png\n"
     ]
    }
   ],
   "source": [
    "### Create path to lesioned svgs and convert to png for feature extraction\n",
    "really_run = True\n",
    "\n",
    "if really_run==True:\n",
    "    svg_paths= srh.generate_svg_path_list(os.path.join(plot_dir,'train_bj'))\n",
    "    srh.svg_to_png(svg_paths,out_dir=\"train_bj_png\",base_dir=plot_dir)"
   ]
  },
  {
   "cell_type": "code",
   "execution_count": 34,
   "metadata": {},
   "outputs": [
    {
     "name": "stdout",
     "output_type": "stream",
     "text": [
      "convert /Users/kushin/Documents/Github/UW_sketch_work/plots/test_tt/8297-39d66207-4fb6-430c-8e2b-4f95213b6a55_30.svg /Users/kushin/Documents/Github/UW_sketch_work/plots/test_tt_png/8297-39d66207-4fb6-430c-8e2b-4f95213b6a55_30.png\n"
     ]
    }
   ],
   "source": [
    "### Create path to lesioned svgs and convert to png for feature extraction\n",
    "really_run = True\n",
    "\n",
    "if really_run==True:\n",
    "    svg_paths= srh.generate_svg_path_list(os.path.join(plot_dir,'test_tt'))\n",
    "    srh.svg_to_png(svg_paths,out_dir=\"test_tt_png\",base_dir=plot_dir)"
   ]
  },
  {
   "cell_type": "code",
   "execution_count": 67,
   "metadata": {},
   "outputs": [],
   "source": [
    "from torchvision.utils import save_image\n",
    "from torchvision import datasets\n",
    "import torchvision\n",
    "from torch.autograd import Variable"
   ]
  },
  {
   "cell_type": "code",
   "execution_count": 61,
   "metadata": {},
   "outputs": [],
   "source": [
    "#train_set = os.path.join(plot_dir, \"train_bj_png\")\n",
    "\n",
    "\n",
    "train_set = datasets.ImageFolder(os.path.join(plot_dir), transform=torchvision.transforms.ToTensor())"
   ]
  },
  {
   "cell_type": "code",
   "execution_count": 62,
   "metadata": {},
   "outputs": [],
   "source": [
    "dataloader = torch.utils.data.DataLoader(train_set, batch_size=32, shuffle=False)"
   ]
  },
  {
   "cell_type": "code",
   "execution_count": 74,
   "metadata": {},
   "outputs": [],
   "source": [
    "test_set = datasets.ImageFolder(os.path.join(plot_dir), transform=torchvision.transforms.ToTensor())"
   ]
  },
  {
   "cell_type": "code",
   "execution_count": 75,
   "metadata": {},
   "outputs": [],
   "source": [
    "test_loader = torch.utils.data.DataLoader(test_set, batch_size=4, shuffle=False)"
   ]
  },
  {
   "cell_type": "code",
   "execution_count": 63,
   "metadata": {},
   "outputs": [],
   "source": [
    "\n",
    "class Autoencoder(nn.Module):\n",
    "    def __init__(self):\n",
    "        super(Autoencoder,self).__init__()\n",
    "        \n",
    "        self.encoder = nn.Sequential(\n",
    "            nn.Conv2d(3, 6, kernel_size=5),\n",
    "            nn.ReLU(True),\n",
    "            nn.Conv2d(6,16,kernel_size=5),\n",
    "            nn.ReLU(True))\n",
    "        self.decoder = nn.Sequential(             \n",
    "            nn.ConvTranspose2d(16,6,kernel_size=5),\n",
    "            nn.ReLU(True),\n",
    "            nn.ConvTranspose2d(6,3,kernel_size=5),\n",
    "            nn.ReLU(True))\n",
    "    def forward(self,x):\n",
    "        x = self.encoder(x)\n",
    "        x = self.decoder(x)\n",
    "        return x"
   ]
  },
  {
   "cell_type": "code",
   "execution_count": 64,
   "metadata": {},
   "outputs": [],
   "source": [
    "num_epochs = 5 #you can go for more epochs, I am using a mac\n",
    "batch_size = 128"
   ]
  },
  {
   "cell_type": "code",
   "execution_count": 65,
   "metadata": {},
   "outputs": [],
   "source": [
    "model = Autoencoder().cpu()\n",
    "distance = nn.MSELoss()\n",
    "optimizer = torch.optim.Adam(model.parameters(),weight_decay=1e-5)"
   ]
  },
  {
   "cell_type": "code",
   "execution_count": 120,
   "metadata": {},
   "outputs": [],
   "source": [
    "for epoch in range(num_epochs):\n",
    "    for data in dataloader:\n",
    "        img, _ = data\n",
    "        # ===================forward=====================\n",
    "        output = model(img)\n",
    "        loss = distance(output, img)\n",
    "        # ===================backward====================\n",
    "        optimizer.zero_grad()\n",
    "        loss.backward()\n",
    "        optimizer.step()\n",
    "    # ===================log========================\n",
    "  #  print('epoch [{}/{}], loss:{:.4f}'.format(epoch+1, num_epochs, loss.data()))"
   ]
  },
  {
   "cell_type": "code",
   "execution_count": 70,
   "metadata": {},
   "outputs": [
    {
     "data": {
      "text/plain": [
       "<bound method Module.parameters of Autoencoder(\n",
       "  (encoder): Sequential(\n",
       "    (0): Conv2d(3, 6, kernel_size=(5, 5), stride=(1, 1))\n",
       "    (1): ReLU(inplace=True)\n",
       "    (2): Conv2d(6, 16, kernel_size=(5, 5), stride=(1, 1))\n",
       "    (3): ReLU(inplace=True)\n",
       "  )\n",
       "  (decoder): Sequential(\n",
       "    (0): ConvTranspose2d(16, 6, kernel_size=(5, 5), stride=(1, 1))\n",
       "    (1): ReLU(inplace=True)\n",
       "    (2): ConvTranspose2d(6, 3, kernel_size=(5, 5), stride=(1, 1))\n",
       "    (3): ReLU(inplace=True)\n",
       "  )\n",
       ")>"
      ]
     },
     "execution_count": 70,
     "metadata": {},
     "output_type": "execute_result"
    }
   ],
   "source": [
    "model()"
   ]
  },
  {
   "cell_type": "code",
   "execution_count": 121,
   "metadata": {},
   "outputs": [],
   "source": [
    "def test(epoch):\n",
    "    model.eval()\n",
    "    test_loss = 0\n",
    "    with torch.no_grad():\n",
    "        for i, (data, _) in enumerate(test_loader):\n",
    "            data = data.to(device)\n",
    "            recon_batch, mu, logvar = model(data)\n",
    "            test_loss += loss_function(recon_batch, data, mu, logvar).item()\n",
    "            if i == 0:\n",
    "                n = min(data.size(0), 8)\n",
    "                comparison = torch.cat([data[:n],\n",
    "                                      recon_batch.view(args.batch_size, 1, 28, 28)[:n]])\n",
    "                save_image(comparison.cpu(),\n",
    "                         'results/reconstruction_' + str(epoch) + '.png', nrow=n)\n",
    "\n",
    "    test_loss /= len(test_loader.dataset)\n",
    "    print('====> Test set loss: {:.4f}'.format(test_loss))"
   ]
  },
  {
   "cell_type": "code",
   "execution_count": 200,
   "metadata": {},
   "outputs": [],
   "source": [
    "ims= []\n",
    "for data in dataloader:\n",
    "    for d in data:\n",
    "        img, _ = data\n",
    "        p_img = model(img).detach()\n",
    "        for p in p_img:\n",
    "            ims.append(np.array(p).transpose(1,2,0))"
   ]
  },
  {
   "cell_type": "code",
   "execution_count": 201,
   "metadata": {},
   "outputs": [
    {
     "data": {
      "text/plain": [
       "25"
      ]
     },
     "execution_count": 201,
     "metadata": {},
     "output_type": "execute_result"
    }
   ],
   "source": [
    "len(d)"
   ]
  },
  {
   "cell_type": "code",
   "execution_count": 202,
   "metadata": {},
   "outputs": [
    {
     "data": {
      "text/plain": [
       "(300, 300, 3)"
      ]
     },
     "execution_count": 202,
     "metadata": {},
     "output_type": "execute_result"
    }
   ],
   "source": [
    "ims[0].shape"
   ]
  },
  {
   "cell_type": "code",
   "execution_count": 203,
   "metadata": {},
   "outputs": [
    {
     "data": {
      "text/plain": [
       "(300, 300, 3)"
      ]
     },
     "execution_count": 203,
     "metadata": {},
     "output_type": "execute_result"
    }
   ],
   "source": [
    "ims[25].shape"
   ]
  },
  {
   "cell_type": "code",
   "execution_count": 204,
   "metadata": {},
   "outputs": [
    {
     "data": {
      "text/plain": [
       "(300, 3)"
      ]
     },
     "execution_count": 204,
     "metadata": {},
     "output_type": "execute_result"
    }
   ],
   "source": [
    "ims[0][0].shape"
   ]
  },
  {
   "cell_type": "code",
   "execution_count": 205,
   "metadata": {},
   "outputs": [
    {
     "data": {
      "text/plain": [
       "(300, 300, 3)"
      ]
     },
     "execution_count": 205,
     "metadata": {},
     "output_type": "execute_result"
    }
   ],
   "source": [
    "ims[0].shape"
   ]
  },
  {
   "cell_type": "code",
   "execution_count": 207,
   "metadata": {
    "scrolled": true
   },
   "outputs": [
    {
     "data": {
      "text/plain": [
       "<matplotlib.image.AxesImage at 0x1a2bd91358>"
      ]
     },
     "execution_count": 207,
     "metadata": {},
     "output_type": "execute_result"
    },
    {
     "data": {
      "image/png": "[encoded data removed]",
      "text/plain": [
       "<Figure size 432x288 with 1 Axes>"
      ]
     },
     "metadata": {},
     "output_type": "display_data"
    }
   ],
   "source": [
    "plt.imshow(ims[32])"
   ]
  },
  {
   "cell_type": "code",
   "execution_count": null,
   "metadata": {},
   "outputs": [],
   "source": []
  }
 ],
 "metadata": {
  "kernelspec": {
   "display_name": "Python [conda env:root] *",
   "language": "python",
   "name": "conda-root-py"
  },
  "language_info": {
   "codemirror_mode": {
    "name": "ipython",
    "version": 3
   },
   "file_extension": ".py",
   "mimetype": "text/x-python",
   "name": "python",
   "nbconvert_exporter": "python",
   "pygments_lexer": "ipython3",
   "version": "3.7.3"
  }
 },
 "nbformat": 4,
 "nbformat_minor": 2
}
