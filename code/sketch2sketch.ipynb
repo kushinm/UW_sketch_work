{
 "cells": [
  {
   "cell_type": "markdown",
   "metadata": {},
   "source": [
    "### Notebook for creating image to image autoencoders for sketches using pytorch"
   ]
  },
  {
   "cell_type": "markdown",
   "metadata": {},
   "source": [
    "We're using python 3 plus the latest versions of all the packages listed below. Be sure to update before running this nb"
   ]
  },
  {
   "cell_type": "code",
   "execution_count": 67,
   "metadata": {},
   "outputs": [],
   "source": [
    "### import package\n",
    "\n",
    "import sys\n",
    "from importlib import reload\n",
    "from matplotlib import pyplot as plt\n",
    "%matplotlib inline\n",
    "import seaborn as sns\n",
    "import numpy as np\n",
    "import scipy.stats as stats\n",
    "import pandas as pd\n",
    "import torch\n",
    "from PIL import Image\n",
    "from IPython.display import clear_output\n",
    "import svgpathtools\n",
    "import os.path\n",
    "from collections import Counter\n",
    "\n",
    "\n",
    "\n",
    "import svg_rendering_helpers as srh"
   ]
  },
  {
   "cell_type": "code",
   "execution_count": 68,
   "metadata": {},
   "outputs": [],
   "source": [
    "\n",
    "# directory & file hierarchy\n",
    "proj_dir = os.path.abspath('..')\n",
    "code_dir = os.getcwd()\n",
    "plot_dir = os.path.join(proj_dir,'plots')\n",
    "data_dir = os.path.join(proj_dir,'data')\n",
    "\n",
    "\n",
    "if not os.path.exists(code_dir):\n",
    "    os.makedirs(code_dir)\n",
    "    \n",
    "if not os.path.exists(plot_dir):\n",
    "    os.makedirs(plot_dir)\n",
    "    \n",
    "if not os.path.exists(data_dir):\n",
    "    os.makedirs(data_dir)\n",
    "    \n",
    "# if svg_rendering_helpers.py not in sys.path:\n",
    "#     sys.path.append(os.path.join(proj_dir,svg_rendering_helpers.py)) "
   ]
  },
  {
   "cell_type": "code",
   "execution_count": 76,
   "metadata": {},
   "outputs": [],
   "source": []
  },
  {
   "cell_type": "markdown",
   "metadata": {},
   "source": [
    "## TO DO: Reformat sketch_svg_string column so that it's a list of strokes instead of one giant string\n",
    "\n",
    "### Maybe find the png_string version of the sketches so we can just work with those for now?"
   ]
  },
  {
   "cell_type": "code",
   "execution_count": 127,
   "metadata": {},
   "outputs": [],
   "source": [
    "D = pd.read_csv(os.path.join(data_dir,'semantic_parts_annotated_data.csv'))"
   ]
  },
  {
   "cell_type": "code",
   "execution_count": 128,
   "metadata": {},
   "outputs": [
    {
     "data": {
      "text/plain": [
       "\"[u'M88,40c0,2.06264 -0.6772,18.1614 1,19c9.41403,4.70702 38.10521,0 48,0c6.97504,0 29.82865,3.17135 34,-1c3.42085,-3.42085 -3.19012,-10.78518 -4,-12c-3.78389,-5.67584 -63.17292,-1 -79,-1', u'M92,61c0,18.89105 3,36.40812 3,55c0,1.58004 -0.75655,5 1,5', u'M169,60c0,20.0258 3,38.53083 3,57', u'M102,122c16.31683,10.87789 43.89528,-5 61,-5c0.74802,0 9,0 9,0c0,0 -1.47891,5.69728 -2,7c-4.79137,11.97843 -12.34671,43.34671 -20,51c-2.8003,2.8003 -21.92143,0 -26,0c-2.08325,0 -39.79187,-0.79187 -40,-1c-4.02358,-4.02358 13,-45.63903 13,-52c0,-2.36036 -0.54955,-3 2,-3', u'M83,174c0,17.6105 4,36.94202 4,53', u'M148,176c0,14.22848 5,31.9937 5,44', u'M172,120c3.28295,0 2.90737,5.90421 4,9c4.66601,13.22036 11.28855,72.28855 16,77', u'M103,179c3.79513,0 8.1022,13 12,13']\""
      ]
     },
     "execution_count": 128,
     "metadata": {},
     "output_type": "execute_result"
    }
   ],
   "source": [
    "D.sketch_svg_string[0]"
   ]
  },
  {
   "cell_type": "code",
   "execution_count": 129,
   "metadata": {},
   "outputs": [],
   "source": [
    "def listify(string):\n",
    "    split_list = string.split(\"'\")\n",
    "    l=[\", u\",\"[u\",\"]\"]\n",
    "    out = [x for x in split_list if x not in l]\n",
    "    return(out)\n",
    "    "
   ]
  },
  {
   "cell_type": "code",
   "execution_count": 130,
   "metadata": {},
   "outputs": [],
   "source": [
    "D.sketch_svg_string = D.sketch_svg_string.apply(listify)"
   ]
  },
  {
   "cell_type": "code",
   "execution_count": 132,
   "metadata": {},
   "outputs": [
    {
     "data": {
      "text/plain": [
       "8"
      ]
     },
     "execution_count": 132,
     "metadata": {},
     "output_type": "execute_result"
    }
   ],
   "source": [
    "len(D.sketch_svg_string[0])"
   ]
  },
  {
   "cell_type": "code",
   "execution_count": null,
   "metadata": {},
   "outputs": [],
   "source": []
  },
  {
   "cell_type": "code",
   "execution_count": null,
   "metadata": {},
   "outputs": [],
   "source": []
  },
  {
   "cell_type": "code",
   "execution_count": 133,
   "metadata": {},
   "outputs": [],
   "source": []
  },
  {
   "cell_type": "code",
   "execution_count": 134,
   "metadata": {},
   "outputs": [],
   "source": []
  },
  {
   "cell_type": "code",
   "execution_count": null,
   "metadata": {},
   "outputs": [],
   "source": []
  },
  {
   "cell_type": "code",
   "execution_count": 135,
   "metadata": {},
   "outputs": [
    {
     "data": {
      "text/plain": [
       "array(['bird', 'car', 'chair', 'dog'], dtype=object)"
      ]
     },
     "execution_count": 135,
     "metadata": {},
     "output_type": "execute_result"
    }
   ],
   "source": [
    "unique_cats = np.unique(D.category)\n",
    "unique_cats"
   ]
  },
  {
   "cell_type": "code",
   "execution_count": 136,
   "metadata": {},
   "outputs": [],
   "source": [
    "#Creating a spline-level df where the modal label is set as the 'true' label for any given spline\n",
    "spline_df= D.groupby('spline_id').agg(lambda x: Counter(x).most_common(1)[0][0])\n",
    "spline_df.reset_index(level=0, inplace=True)\n",
    "\n",
    "##Creating a stroke-level dataframe that takes the mode value of annotation for its children splines to set as its\n",
    "##label value\n",
    "\n",
    "from collections import Counter\n",
    "\n",
    "\n",
    "from collections import OrderedDict\n",
    "stroke_svgs=OrderedDict()\n",
    "for category in unique_cats:\n",
    "    DS=D[D['category']==category]\n",
    "    for sketch in np.unique(DS['sketch_id']):\n",
    "        DSS=DS[DS['sketch_id']==sketch]\n",
    "        for stroke in np.unique(DSS['stroke_num']):\n",
    "            DSA=DSS[DSS['stroke_num']==stroke]\n",
    "            DSA=DSA.reset_index()\n",
    "            stroke_svgs[DSA['stroke_id'][0]] = DSA['sketch_svg_string'][0][stroke]\n",
    "\n",
    "            \n",
    "            \n",
    "stroke_svg_df= pd.DataFrame.from_dict(stroke_svgs, orient='index')    \n",
    "stroke_group_data= D.groupby('stroke_id').agg(lambda x: Counter(x).most_common(1)[0][0])\n",
    "labels= pd.DataFrame(stroke_group_data[['sketch_id','label','stroke_num','condition','target','category','outcome']])\n",
    "stroke_df=pd.merge(stroke_svg_df,labels,left_index=True, right_index =True)\n",
    "stroke_df.reset_index(level=0, inplace=True)\n",
    "stroke_df=stroke_df.rename(index=str, columns={\"index\": \"stroke_id\", 0: \"svg\"})\n"
   ]
  },
  {
   "cell_type": "code",
   "execution_count": 137,
   "metadata": {},
   "outputs": [
    {
     "data": {
      "text/plain": [
       "['M88,40c0,2.06264 -0.6772,18.1614 1,19c9.41403,4.70702 38.10521,0 48,0c6.97504,0 29.82865,3.17135 34,-1c3.42085,-3.42085 -3.19012,-10.78518 -4,-12c-3.78389,-5.67584 -63.17292,-1 -79,-1',\n",
       " 'M92,61c0,18.89105 3,36.40812 3,55c0,1.58004 -0.75655,5 1,5',\n",
       " 'M169,60c0,20.0258 3,38.53083 3,57',\n",
       " 'M102,122c16.31683,10.87789 43.89528,-5 61,-5c0.74802,0 9,0 9,0c0,0 -1.47891,5.69728 -2,7c-4.79137,11.97843 -12.34671,43.34671 -20,51c-2.8003,2.8003 -21.92143,0 -26,0c-2.08325,0 -39.79187,-0.79187 -40,-1c-4.02358,-4.02358 13,-45.63903 13,-52c0,-2.36036 -0.54955,-3 2,-3',\n",
       " 'M83,174c0,17.6105 4,36.94202 4,53',\n",
       " 'M148,176c0,14.22848 5,31.9937 5,44',\n",
       " 'M172,120c3.28295,0 2.90737,5.90421 4,9c4.66601,13.22036 11.28855,72.28855 16,77',\n",
       " 'M103,179c3.79513,0 8.1022,13 12,13']"
      ]
     },
     "execution_count": 137,
     "metadata": {},
     "output_type": "execute_result"
    }
   ],
   "source": [
    "D.sketch_svg_string[0]"
   ]
  },
  {
   "cell_type": "code",
   "execution_count": 138,
   "metadata": {},
   "outputs": [],
   "source": [
    "D_birds = stroke_df[stroke_df['category']=='bird']"
   ]
  },
  {
   "cell_type": "code",
   "execution_count": 139,
   "metadata": {},
   "outputs": [],
   "source": [
    "D_bj = D_birds[D_birds['target']=='bluejay']"
   ]
  },
  {
   "cell_type": "code",
   "execution_count": 144,
   "metadata": {},
   "outputs": [
    {
     "data": {
      "text/plain": [
       "54      M40,105c20.79393,0 34.03323,-2.09968 40,-20c2....\n",
       "55           M92,236c-6.92959,6.92959 -15.29336,21 -26,21\n",
       "56               M84,242c3.79976,3.79976 14.8012,12 20,12\n",
       "57                 M130,240c0,1.57556 3.56254,5.56254 5,7\n",
       "58                   M137,245c-8.6616,0 -18.84486,9 -27,9\n",
       "59      M92,175c0,-14.62466 -18.36294,-28.54441 -26,-4...\n",
       "60          M93,88c0.33333,-0.33333 0.66667,-0.66667 1,-1\n",
       "61      M96,84c-2.13931,2.13931 -2,3.07978 -2,6c0,3.95...\n",
       "62                M130,246c0,3.51362 10.7946,9.7946 14,13\n",
       "63      M133,243c-2.95162,0 -1.2633,4.63165 -4,6c-0.54...\n",
       "219               M37,96c8.63927,0 39.32001,4.67999 45,-1\n",
       "220     M37,94c13.15865,0 22.69514,7.09931 36,9c0.6635...\n",
       "221     M78,98c0,1.56667 0.66667,1 2,1c11.69836,0 21.9...\n",
       "222                 M136,227c0,-1.58471 -1,-2.19668 -1,-4\n",
       "223                M135,220c0.82177,0.82177 4.27177,3 5,3\n",
       "224                M139,224c0,3.22863 6.64342,2.64342 9,5\n",
       "225     M108,178c-1.73941,0 -1,2.51791 -1,4c0,2.76598 ...\n",
       "226            M101,227c0,-3.87213 0.27911,-7.55822 2,-11\n",
       "227     M112,112c0,-2.79378 -8.15078,2.57539 -9,3c-9.8...\n",
       "228     M87,98c1.65142,0 2.7773,3.16595 4,5c5.14863,7....\n",
       "229     M90,101c3.05407,0 6.56909,0.62061 9,-1c9.59297...\n",
       "298       M104,188c5.54995,11.0999 -0.86579,32.13421 9,42\n",
       "299                 M161,196c0,15.41928 -3,31.08183 -3,46\n",
       "300     M77,172c14.25242,0 15.55082,13.89377 27,20c16....\n",
       "301     M99,126c-12.01849,0 -29.38834,-34.87055 -14,-4...\n",
       "302                   M76,91c-38.0366,0 -3.00685,18 14,18\n",
       "311     M110,141c-12.76855,0 -25.18493,2.06164 -37,6c-...\n",
       "312     M105,133c6.17854,0 30.30583,-40.42816 35,-47c0...\n",
       "313     M103,152c0,2.73792 -2.72821,8.90768 0,13c3.632...\n",
       "314     M135,128c-5.04473,0 -12.38816,13.12939 -3,10c1...\n",
       "                              ...                        \n",
       "1706    M137,174c0,9.22856 -3.68912,30 -15,30c-0.17173...\n",
       "1707    M170,185c0,7.33333 0,14.66667 0,22c0,3.66667 2...\n",
       "1708    M99,96c0,21.21101 9.13976,-3.86024 8,-5c-1.152...\n",
       "1717    M101,103c0,-12.95482 24.14656,-43 37,-43c17.82...\n",
       "1718    M126,65c0,-3.04272 -7.09532,5.64298 -8,7c-4.96...\n",
       "1719    M125,192c0,13.69035 0.57159,21.47614 -10,25c-2...\n",
       "1720    M155,210c0,8.52029 3.24807,10.50386 -1,19c-1.6...\n",
       "1721                 M152,215c0,6.24348 15.75935,15 20,15\n",
       "1722    M143,120c-2.24158,0 1.44932,10.16442 2,12c6.35...\n",
       "1723          M99,108c-1.05409,-1.05409 -2.50929,-2 -4,-2\n",
       "1724    M143,89c0,10.52321 -14.47486,8.47486 -20,14c-0...\n",
       "1725    M77,105c2.7927,0 5.66333,1.44222 8,3c5.67238,3...\n",
       "1786    M54,118c0,2.59238 -8.96614,9.3559 -8,10c2.4064...\n",
       "1787          M83,209c-3.23038,3.23038 -9.26819,10 -13,10\n",
       "1788             M80,214c4.01804,0 7.22117,12.61059 12,15\n",
       "1789                      M82,218c0,2.4197 1.39528,8 -2,8\n",
       "1790             M107,180c3.56036,8.9009 8.78687,12 18,12\n",
       "1791    M122,192c-4.35721,8.71442 -5.08484,22.28279 -8...\n",
       "1792                M111,227c-2.97351,0 -13,2.10173 -13,5\n",
       "1793                    M112,226c0,4.07007 9,7.87329 9,11\n",
       "1794                  M111,227c-3.03855,0 -1.36497,6 -4,6\n",
       "1795    M125,191c2.20644,0 16.11097,-8 31,-8c2.85337,0...\n",
       "1875    M35,72c6.88094,0 17.34031,3.41492 23,2c13.5032...\n",
       "1876    M122,193c-19.30912,0 -27.95293,-0.57176 -47,-1...\n",
       "1877    M78,74c-11.96911,0 8.65364,1.44879 4,3c-6.3166...\n",
       "1878        M86,185c-12.03351,0 -11.41975,29.55967 -17,37\n",
       "1879                M70,222c-3.04829,0 -13,7.33711 -13,10\n",
       "1880             M72,223c8.52958,0 13.97992,8.97992 19,14\n",
       "1881               M113,213c-4.67448,0 -14,11.8928 -14,16\n",
       "1882                 M111,216c6.37098,0 10.98985,18 18,18\n",
       "Name: svg, Length: 295, dtype: object"
      ]
     },
     "execution_count": 144,
     "metadata": {},
     "output_type": "execute_result"
    }
   ],
   "source": [
    "D_bj.svg"
   ]
  },
  {
   "cell_type": "code",
   "execution_count": 149,
   "metadata": {},
   "outputs": [],
   "source": [
    "reload(srh)\n",
    "really_run = True\n",
    "\n",
    "if really_run==True:\n",
    "\n",
    "    for sketch in D_bj.sketch_id.unique():\n",
    "        this_sketch = D_bj.query('sketch_id == @sketch')\n",
    "        svgs = list(this_sketch.svg)\n",
    "        srh.render_svg(svgs,base_dir=plot_dir,out_fname='{}.svg'.format(sketch))\n"
   ]
  },
  {
   "cell_type": "code",
   "execution_count": 151,
   "metadata": {},
   "outputs": [
    {
     "name": "stdout",
     "output_type": "stream",
     "text": [
      "convert /Users/kushin/Documents/Github/UW_sketch_work/plots/svg_images/2721-f28245be-a3ac-425e-9538-5c0803980807_23.svg /Users/kushin/Documents/Github/UW_sketch_work/plots/png_images/2721-f28245be-a3ac-425e-9538-5c0803980807_23.png\n"
     ]
    }
   ],
   "source": [
    "### Create path to lesioned svgs and convert to png for feature extraction\n",
    "really_run = True\n",
    "\n",
    "if really_run==True:\n",
    "    svg_paths= srh.generate_svg_path_list(os.path.join(plot_dir,'svg_images'))\n",
    "    srh.svg_to_png(svg_paths,base_dir=plot_dir)"
   ]
  },
  {
   "cell_type": "code",
   "execution_count": null,
   "metadata": {},
   "outputs": [],
   "source": []
  },
  {
   "cell_type": "code",
   "execution_count": null,
   "metadata": {},
   "outputs": [],
   "source": []
  },
  {
   "cell_type": "code",
   "execution_count": null,
   "metadata": {},
   "outputs": [],
   "source": []
  }
 ],
 "metadata": {
  "kernelspec": {
   "display_name": "Python [conda env:root] *",
   "language": "python",
   "name": "conda-root-py"
  },
  "language_info": {
   "codemirror_mode": {
    "name": "ipython",
    "version": 3
   },
   "file_extension": ".py",
   "mimetype": "text/x-python",
   "name": "python",
   "nbconvert_exporter": "python",
   "pygments_lexer": "ipython3",
   "version": "3.7.3"
  }
 },
 "nbformat": 4,
 "nbformat_minor": 2
}
